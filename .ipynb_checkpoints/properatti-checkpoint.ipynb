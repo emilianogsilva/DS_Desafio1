{
 "cells": [
  {
   "cell_type": "code",
   "execution_count": null,
   "metadata": {},
   "outputs": [],
   "source": []
  },
  {
   "cell_type": "markdown",
   "metadata": {},
   "source": [
    "---\n",
    "\n",
    "<img src='../../../common/logo_DH.png' align='left' width=35%/>\n"
   ]
  },
  {
   "cell_type": "markdown",
   "metadata": {},
   "source": [
    "## Documentación pandas\n",
    "\n",
    "https://pandas.pydata.org/pandas-docs/stable/index.html\n",
    "\n",
    " "
   ]
  },
  {
   "cell_type": "markdown",
   "metadata": {},
   "source": [
    "## Dataset\n",
    "\n",
    "El dataset que usaremos es una versión muy resumida de datos de la Encuesta Permanentes de Hogares (relevamiento llevado adelante por el INDEC). Se trata de una encuesta continua que tiene como objetivo fundamental generar información sobre el funcionamiento del mercado de trabajo.\n",
    "\n",
    "Solamente utilizaremos algunas variables (edad, nivel educativo, cantidad de horas trabajadas, calificación de la tarea e ingreso laboral) y algunos casos (los ocupados, es decir, aquellos que han trabajado al menos una hora en la semana anterior al relevamiento).\n",
    "\n",
    "Este dataset es el mismo que emplearemos en la clase presencial, y en estos ejercicios buscamos  familiarizarnos con él y revisar algunos temas.\n"
   ]
  },
  {
   "cell_type": "markdown",
   "metadata": {},
   "source": [
    "Importamos la biblioteca pandas y asignamos pd como alias:"
   ]
  },
  {
   "cell_type": "code",
   "execution_count": 53,
   "metadata": {},
   "outputs": [],
   "source": [
    "import pandas as pd"
   ]
  },
  {
   "cell_type": "markdown",
   "metadata": {},
   "source": [
    "## Ejercicio 1\n",
    "\n",
    "Busquemos en la documentación de pandas la sintaxis del método `read_csv` y leamos en un `DataFrame` llamado data los datos del archivo /M1/CLASE_04/Data/data_filt.csv \n",
    "\n",
    "Este archivo tiene algunos datos numéricos y otros de tipo cadena de caracteres. \n",
    "\n",
    "Las columnas son:\n",
    "\n",
    "* ch06: int, edad\n",
    "\n",
    "* nivel_ed: string, nivel educativo\n",
    "\n",
    "* htot: int, cantidad de horas totales trabajadas en el período\n",
    "\n",
    "* calif: string, calificación de la tarea\n",
    "\n",
    "* p47t: int, ingreso\n",
    "\n"
   ]
  },
  {
   "cell_type": "code",
   "execution_count": 54,
   "metadata": {},
   "outputs": [],
   "source": [
    "data = pd.read_csv('data_filt.csv', encoding='ANSI') "
   ]
  },
  {
   "cell_type": "markdown",
   "metadata": {},
   "source": [
    "## Ejercicio 2\n",
    "\n",
    "Repasemos el concepto de índice y columnas de un `DataFrame`\n",
    "\n",
    "Accedamos al índice (nombres de las filas) del `DataFrame` data\n",
    "\n",
    "Accedamos a los nombres de columnas del `DataFrame` data\n"
   ]
  },
  {
   "cell_type": "code",
   "execution_count": 55,
   "metadata": {},
   "outputs": [],
   "source": [
    "df = pd.DataFrame(data)\n",
    "array = df[\"ch06\"].to_numpy\n",
    "pdtolist = list(df[\"ch06\"])\n",
    "col = df.columns\n",
    "ind = df.index"
   ]
  },
  {
   "cell_type": "markdown",
   "metadata": {},
   "source": [
    "Vamos a modificar ahora el índice de data, así el valor del índice no coincide con la posición y podemos notar diferencias en los ejercicios que siguen."
   ]
  },
  {
   "cell_type": "code",
   "execution_count": 56,
   "metadata": {},
   "outputs": [
    {
     "name": "stdout",
     "output_type": "stream",
     "text": [
      "RangeIndex(start=7, stop=23455, step=1)\n"
     ]
    },
    {
     "data": {
      "text/html": [
       "<div>\n",
       "<style scoped>\n",
       "    .dataframe tbody tr th:only-of-type {\n",
       "        vertical-align: middle;\n",
       "    }\n",
       "\n",
       "    .dataframe tbody tr th {\n",
       "        vertical-align: top;\n",
       "    }\n",
       "\n",
       "    .dataframe thead th {\n",
       "        text-align: right;\n",
       "    }\n",
       "</style>\n",
       "<table border=\"1\" class=\"dataframe\">\n",
       "  <thead>\n",
       "    <tr style=\"text-align: right;\">\n",
       "      <th></th>\n",
       "      <th>ch06</th>\n",
       "      <th>nivel_ed</th>\n",
       "      <th>htot</th>\n",
       "      <th>calif</th>\n",
       "      <th>p47t</th>\n",
       "    </tr>\n",
       "  </thead>\n",
       "  <tbody>\n",
       "    <tr>\n",
       "      <th>7</th>\n",
       "      <td>46</td>\n",
       "      <td>1_H/Sec inc</td>\n",
       "      <td>45</td>\n",
       "      <td>2_Op./No calif.</td>\n",
       "      <td>6000.0</td>\n",
       "    </tr>\n",
       "    <tr>\n",
       "      <th>8</th>\n",
       "      <td>26</td>\n",
       "      <td>2_Sec. comp y más</td>\n",
       "      <td>25</td>\n",
       "      <td>2_Op./No calif.</td>\n",
       "      <td>5000.0</td>\n",
       "    </tr>\n",
       "    <tr>\n",
       "      <th>9</th>\n",
       "      <td>47</td>\n",
       "      <td>2_Sec. comp y más</td>\n",
       "      <td>25</td>\n",
       "      <td>2_Op./No calif.</td>\n",
       "      <td>5000.0</td>\n",
       "    </tr>\n",
       "    <tr>\n",
       "      <th>10</th>\n",
       "      <td>52</td>\n",
       "      <td>1_H/Sec inc</td>\n",
       "      <td>90</td>\n",
       "      <td>2_Op./No calif.</td>\n",
       "      <td>11000.0</td>\n",
       "    </tr>\n",
       "    <tr>\n",
       "      <th>11</th>\n",
       "      <td>45</td>\n",
       "      <td>1_H/Sec inc</td>\n",
       "      <td>44</td>\n",
       "      <td>2_Op./No calif.</td>\n",
       "      <td>9500.0</td>\n",
       "    </tr>\n",
       "  </tbody>\n",
       "</table>\n",
       "</div>"
      ],
      "text/plain": [
       "    ch06           nivel_ed  htot            calif     p47t\n",
       "7     46        1_H/Sec inc    45  2_Op./No calif.   6000.0\n",
       "8     26  2_Sec. comp y más    25  2_Op./No calif.   5000.0\n",
       "9     47  2_Sec. comp y más    25  2_Op./No calif.   5000.0\n",
       "10    52        1_H/Sec inc    90  2_Op./No calif.  11000.0\n",
       "11    45        1_H/Sec inc    44  2_Op./No calif.   9500.0"
      ]
     },
     "execution_count": 56,
     "metadata": {},
     "output_type": "execute_result"
    }
   ],
   "source": [
    "data.index = data.index + 7\n",
    "print(data.index)\n",
    "data.head(5)"
   ]
  },
  {
   "cell_type": "markdown",
   "metadata": {},
   "source": [
    "## Ejercicio 3\n",
    "\n",
    "Repasemos el uso de `loc` e `iloc`\n",
    "\n",
    "* `loc` nos permite acceder a un elemento por su índice\n",
    "\n",
    "* `iloc` nos permite acceder a un elemento por su posición\n",
    "\n",
    "Leamos con `loc` y con `iloc` la cuarta fila de data\n",
    "\n",
    "¿Cómo accedemos al valor del índice en la cuarta fila?"
   ]
  },
  {
   "cell_type": "code",
   "execution_count": 75,
   "metadata": {},
   "outputs": [
    {
     "data": {
      "text/plain": [
       "ch06                     52\n",
       "nivel_ed        1_H/Sec inc\n",
       "htot                     90\n",
       "calif       2_Op./No calif.\n",
       "p47t                  11000\n",
       "Name: 10, dtype: object"
      ]
     },
     "execution_count": 75,
     "metadata": {},
     "output_type": "execute_result"
    }
   ],
   "source": [
    "df.iloc[3]"
   ]
  },
  {
   "cell_type": "code",
   "execution_count": 78,
   "metadata": {},
   "outputs": [
    {
     "data": {
      "text/plain": [
       "10"
      ]
     },
     "execution_count": 78,
     "metadata": {},
     "output_type": "execute_result"
    }
   ],
   "source": [
    "df.index[3]"
   ]
  },
  {
   "cell_type": "markdown",
   "metadata": {},
   "source": [
    "## Ejercicio 4\n",
    "\n",
    "Repasemos el uso de `loc` combinado con máscaras booleanas.\n",
    "\n",
    "Queremos construir un objeto `DataFrame` con los registros de edad menor a 15 o mayor igual a 70.\n"
   ]
  },
  {
   "cell_type": "code",
   "execution_count": 89,
   "metadata": {},
   "outputs": [
    {
     "data": {
      "text/html": [
       "<div>\n",
       "<style scoped>\n",
       "    .dataframe tbody tr th:only-of-type {\n",
       "        vertical-align: middle;\n",
       "    }\n",
       "\n",
       "    .dataframe tbody tr th {\n",
       "        vertical-align: top;\n",
       "    }\n",
       "\n",
       "    .dataframe thead th {\n",
       "        text-align: right;\n",
       "    }\n",
       "</style>\n",
       "<table border=\"1\" class=\"dataframe\">\n",
       "  <thead>\n",
       "    <tr style=\"text-align: right;\">\n",
       "      <th></th>\n",
       "      <th>ch06</th>\n",
       "      <th>nivel_ed</th>\n",
       "      <th>htot</th>\n",
       "      <th>calif</th>\n",
       "      <th>p47t</th>\n",
       "    </tr>\n",
       "  </thead>\n",
       "  <tbody>\n",
       "    <tr>\n",
       "      <th>17</th>\n",
       "      <td>72</td>\n",
       "      <td>1_H/Sec inc</td>\n",
       "      <td>15</td>\n",
       "      <td>1_Prof./Tecn.</td>\n",
       "      <td>8300.0</td>\n",
       "    </tr>\n",
       "    <tr>\n",
       "      <th>251</th>\n",
       "      <td>71</td>\n",
       "      <td>2_Sec. comp y más</td>\n",
       "      <td>8</td>\n",
       "      <td>1_Prof./Tecn.</td>\n",
       "      <td>7102.0</td>\n",
       "    </tr>\n",
       "    <tr>\n",
       "      <th>416</th>\n",
       "      <td>71</td>\n",
       "      <td>1_H/Sec inc</td>\n",
       "      <td>63</td>\n",
       "      <td>2_Op./No calif.</td>\n",
       "      <td>11800.0</td>\n",
       "    </tr>\n",
       "    <tr>\n",
       "      <th>663</th>\n",
       "      <td>72</td>\n",
       "      <td>2_Sec. comp y más</td>\n",
       "      <td>44</td>\n",
       "      <td>1_Prof./Tecn.</td>\n",
       "      <td>17000.0</td>\n",
       "    </tr>\n",
       "    <tr>\n",
       "      <th>773</th>\n",
       "      <td>84</td>\n",
       "      <td>2_Sec. comp y más</td>\n",
       "      <td>30</td>\n",
       "      <td>1_Prof./Tecn.</td>\n",
       "      <td>7800.0</td>\n",
       "    </tr>\n",
       "    <tr>\n",
       "      <th>...</th>\n",
       "      <td>...</td>\n",
       "      <td>...</td>\n",
       "      <td>...</td>\n",
       "      <td>...</td>\n",
       "      <td>...</td>\n",
       "    </tr>\n",
       "    <tr>\n",
       "      <th>23093</th>\n",
       "      <td>73</td>\n",
       "      <td>1_H/Sec inc</td>\n",
       "      <td>40</td>\n",
       "      <td>2_Op./No calif.</td>\n",
       "      <td>7500.0</td>\n",
       "    </tr>\n",
       "    <tr>\n",
       "      <th>23301</th>\n",
       "      <td>72</td>\n",
       "      <td>1_H/Sec inc</td>\n",
       "      <td>40</td>\n",
       "      <td>1_Prof./Tecn.</td>\n",
       "      <td>15000.0</td>\n",
       "    </tr>\n",
       "    <tr>\n",
       "      <th>23324</th>\n",
       "      <td>84</td>\n",
       "      <td>1_H/Sec inc</td>\n",
       "      <td>25</td>\n",
       "      <td>2_Op./No calif.</td>\n",
       "      <td>9900.0</td>\n",
       "    </tr>\n",
       "    <tr>\n",
       "      <th>23327</th>\n",
       "      <td>72</td>\n",
       "      <td>1_H/Sec inc</td>\n",
       "      <td>30</td>\n",
       "      <td>2_Op./No calif.</td>\n",
       "      <td>5800.0</td>\n",
       "    </tr>\n",
       "    <tr>\n",
       "      <th>23339</th>\n",
       "      <td>74</td>\n",
       "      <td>2_Sec. comp y más</td>\n",
       "      <td>12</td>\n",
       "      <td>2_Op./No calif.</td>\n",
       "      <td>7000.0</td>\n",
       "    </tr>\n",
       "  </tbody>\n",
       "</table>\n",
       "<p>219 rows × 5 columns</p>\n",
       "</div>"
      ],
      "text/plain": [
       "       ch06           nivel_ed  htot            calif     p47t\n",
       "17       72        1_H/Sec inc    15    1_Prof./Tecn.   8300.0\n",
       "251      71  2_Sec. comp y más     8    1_Prof./Tecn.   7102.0\n",
       "416      71        1_H/Sec inc    63  2_Op./No calif.  11800.0\n",
       "663      72  2_Sec. comp y más    44    1_Prof./Tecn.  17000.0\n",
       "773      84  2_Sec. comp y más    30    1_Prof./Tecn.   7800.0\n",
       "...     ...                ...   ...              ...      ...\n",
       "23093    73        1_H/Sec inc    40  2_Op./No calif.   7500.0\n",
       "23301    72        1_H/Sec inc    40    1_Prof./Tecn.  15000.0\n",
       "23324    84        1_H/Sec inc    25  2_Op./No calif.   9900.0\n",
       "23327    72        1_H/Sec inc    30  2_Op./No calif.   5800.0\n",
       "23339    74  2_Sec. comp y más    12  2_Op./No calif.   7000.0\n",
       "\n",
       "[219 rows x 5 columns]"
      ]
     },
     "execution_count": 89,
     "metadata": {},
     "output_type": "execute_result"
    }
   ],
   "source": [
    "data.loc[data.ch06>70]"
   ]
  },
  {
   "cell_type": "code",
   "execution_count": 83,
   "metadata": {},
   "outputs": [
    {
     "data": {
      "text/html": [
       "<div>\n",
       "<style scoped>\n",
       "    .dataframe tbody tr th:only-of-type {\n",
       "        vertical-align: middle;\n",
       "    }\n",
       "\n",
       "    .dataframe tbody tr th {\n",
       "        vertical-align: top;\n",
       "    }\n",
       "\n",
       "    .dataframe thead th {\n",
       "        text-align: right;\n",
       "    }\n",
       "</style>\n",
       "<table border=\"1\" class=\"dataframe\">\n",
       "  <thead>\n",
       "    <tr style=\"text-align: right;\">\n",
       "      <th></th>\n",
       "      <th>ch06</th>\n",
       "      <th>nivel_ed</th>\n",
       "      <th>htot</th>\n",
       "      <th>calif</th>\n",
       "      <th>p47t</th>\n",
       "    </tr>\n",
       "  </thead>\n",
       "  <tbody>\n",
       "    <tr>\n",
       "      <th>17</th>\n",
       "      <td>72</td>\n",
       "      <td>1_H/Sec inc</td>\n",
       "      <td>15</td>\n",
       "      <td>1_Prof./Tecn.</td>\n",
       "      <td>8300.0</td>\n",
       "    </tr>\n",
       "    <tr>\n",
       "      <th>251</th>\n",
       "      <td>71</td>\n",
       "      <td>2_Sec. comp y más</td>\n",
       "      <td>8</td>\n",
       "      <td>1_Prof./Tecn.</td>\n",
       "      <td>7102.0</td>\n",
       "    </tr>\n",
       "    <tr>\n",
       "      <th>416</th>\n",
       "      <td>71</td>\n",
       "      <td>1_H/Sec inc</td>\n",
       "      <td>63</td>\n",
       "      <td>2_Op./No calif.</td>\n",
       "      <td>11800.0</td>\n",
       "    </tr>\n",
       "    <tr>\n",
       "      <th>663</th>\n",
       "      <td>72</td>\n",
       "      <td>2_Sec. comp y más</td>\n",
       "      <td>44</td>\n",
       "      <td>1_Prof./Tecn.</td>\n",
       "      <td>17000.0</td>\n",
       "    </tr>\n",
       "    <tr>\n",
       "      <th>773</th>\n",
       "      <td>84</td>\n",
       "      <td>2_Sec. comp y más</td>\n",
       "      <td>30</td>\n",
       "      <td>1_Prof./Tecn.</td>\n",
       "      <td>7800.0</td>\n",
       "    </tr>\n",
       "    <tr>\n",
       "      <th>...</th>\n",
       "      <td>...</td>\n",
       "      <td>...</td>\n",
       "      <td>...</td>\n",
       "      <td>...</td>\n",
       "      <td>...</td>\n",
       "    </tr>\n",
       "    <tr>\n",
       "      <th>23301</th>\n",
       "      <td>72</td>\n",
       "      <td>1_H/Sec inc</td>\n",
       "      <td>40</td>\n",
       "      <td>1_Prof./Tecn.</td>\n",
       "      <td>15000.0</td>\n",
       "    </tr>\n",
       "    <tr>\n",
       "      <th>23323</th>\n",
       "      <td>70</td>\n",
       "      <td>1_H/Sec inc</td>\n",
       "      <td>25</td>\n",
       "      <td>2_Op./No calif.</td>\n",
       "      <td>8200.0</td>\n",
       "    </tr>\n",
       "    <tr>\n",
       "      <th>23324</th>\n",
       "      <td>84</td>\n",
       "      <td>1_H/Sec inc</td>\n",
       "      <td>25</td>\n",
       "      <td>2_Op./No calif.</td>\n",
       "      <td>9900.0</td>\n",
       "    </tr>\n",
       "    <tr>\n",
       "      <th>23327</th>\n",
       "      <td>72</td>\n",
       "      <td>1_H/Sec inc</td>\n",
       "      <td>30</td>\n",
       "      <td>2_Op./No calif.</td>\n",
       "      <td>5800.0</td>\n",
       "    </tr>\n",
       "    <tr>\n",
       "      <th>23339</th>\n",
       "      <td>74</td>\n",
       "      <td>2_Sec. comp y más</td>\n",
       "      <td>12</td>\n",
       "      <td>2_Op./No calif.</td>\n",
       "      <td>7000.0</td>\n",
       "    </tr>\n",
       "  </tbody>\n",
       "</table>\n",
       "<p>274 rows × 5 columns</p>\n",
       "</div>"
      ],
      "text/plain": [
       "       ch06           nivel_ed  htot            calif     p47t\n",
       "17       72        1_H/Sec inc    15    1_Prof./Tecn.   8300.0\n",
       "251      71  2_Sec. comp y más     8    1_Prof./Tecn.   7102.0\n",
       "416      71        1_H/Sec inc    63  2_Op./No calif.  11800.0\n",
       "663      72  2_Sec. comp y más    44    1_Prof./Tecn.  17000.0\n",
       "773      84  2_Sec. comp y más    30    1_Prof./Tecn.   7800.0\n",
       "...     ...                ...   ...              ...      ...\n",
       "23301    72        1_H/Sec inc    40    1_Prof./Tecn.  15000.0\n",
       "23323    70        1_H/Sec inc    25  2_Op./No calif.   8200.0\n",
       "23324    84        1_H/Sec inc    25  2_Op./No calif.   9900.0\n",
       "23327    72        1_H/Sec inc    30  2_Op./No calif.   5800.0\n",
       "23339    74  2_Sec. comp y más    12  2_Op./No calif.   7000.0\n",
       "\n",
       "[274 rows x 5 columns]"
      ]
     },
     "execution_count": 83,
     "metadata": {},
     "output_type": "execute_result"
    }
   ],
   "source": [
    "data.loc[data.ch06>=70]"
   ]
  },
  {
   "cell_type": "markdown",
   "metadata": {},
   "source": [
    "## Ejercicio 5\n",
    "\n",
    "Calculemos algunas métricas sobre un objeto `DataFrame`\n",
    "\n",
    "* Promedio de edad\n",
    "\n",
    "* Máximo de horas trabajadas\n",
    "\n",
    "* Mediana de ingreso"
   ]
  },
  {
   "cell_type": "code",
   "execution_count": 85,
   "metadata": {},
   "outputs": [
    {
     "data": {
      "text/plain": [
       "40.455689184578645"
      ]
     },
     "execution_count": 85,
     "metadata": {},
     "output_type": "execute_result"
    }
   ],
   "source": [
    "data[\"ch06\"].mean()"
   ]
  },
  {
   "cell_type": "code",
   "execution_count": 87,
   "metadata": {},
   "outputs": [
    {
     "data": {
      "text/plain": [
       "168"
      ]
     },
     "execution_count": 87,
     "metadata": {},
     "output_type": "execute_result"
    }
   ],
   "source": [
    "data[\"htot\"].max()"
   ]
  },
  {
   "cell_type": "code",
   "execution_count": 88,
   "metadata": {},
   "outputs": [
    {
     "data": {
      "text/plain": [
       "7000.0"
      ]
     },
     "execution_count": 88,
     "metadata": {},
     "output_type": "execute_result"
    }
   ],
   "source": [
    "data[\"p47t\"].median()"
   ]
  }
 ],
 "metadata": {
  "kernelspec": {
   "display_name": "Python 3 (ipykernel)",
   "language": "python",
   "name": "python3"
  },
  "language_info": {
   "codemirror_mode": {
    "name": "ipython",
    "version": 3
   },
   "file_extension": ".py",
   "mimetype": "text/x-python",
   "name": "python",
   "nbconvert_exporter": "python",
   "pygments_lexer": "ipython3",
   "version": "3.8.12"
  }
 },
 "nbformat": 4,
 "nbformat_minor": 4
}
